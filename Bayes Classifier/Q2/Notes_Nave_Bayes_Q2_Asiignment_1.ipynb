{
  "nbformat": 4,
  "nbformat_minor": 0,
  "metadata": {
    "colab": {
      "name": "Notes Nave Bayes Q2 Asiignment 1.ipynb",
      "provenance": []
    },
    "deepnote": {},
    "deepnote_execution_queue": [],
    "deepnote_notebook_id": "6cf6160c-f997-4627-a248-fde3408071ac",
    "kernelspec": {
      "display_name": "Python 3",
      "language": "python",
      "name": "python3"
    },
    "language_info": {
      "codemirror_mode": {
        "name": "ipython",
        "version": 3
      },
      "file_extension": ".py",
      "mimetype": "text/x-python",
      "name": "python",
      "nbconvert_exporter": "python",
      "pygments_lexer": "ipython3",
      "version": "3.8.8"
    }
  },
  "cells": [
    {
      "cell_type": "markdown",
      "metadata": {
        "id": "zV9HEUD8md0n"
      },
      "source": [
        "<h1>ASSIGNMENT 2 :  FAKE BANK NOTES CLASSIFICATION<h1>"
      ]
    },
    {
      "cell_type": "markdown",
      "metadata": {
        "id": "qHAwuQg0zcgQ"
      },
      "source": [
        "<h1>Tushant Yadav 2K18/EE/224<br>\n",
        "Nishkarsh Sharma 2K18/PE/040<h1>"
      ]
    },
    {
      "cell_type": "markdown",
      "metadata": {
        "id": "toqdswYhzmMD"
      },
      "source": [
        "IMPORTING LIBRARIES"
      ]
    },
    {
      "cell_type": "code",
      "metadata": {
        "id": "sTuUX6eJjm8B"
      },
      "source": [
        "import numpy as np\n",
        "import matplotlib.pyplot as plt \n",
        "from sklearn import metrics\n",
        "from sklearn.metrics import classification_report, plot_roc_curve\n",
        "from sklearn.model_selection import train_test_split\n",
        "from sklearn.naive_bayes import GaussianNB\n",
        "from sklearn.metrics import accuracy_score\n",
        "from sklearn.metrics import confusion_matrix\n",
        "import seaborn as sns\n",
        "sns.set()\n"
      ],
      "execution_count": 48,
      "outputs": []
    },
    {
      "cell_type": "markdown",
      "metadata": {
        "id": "p_251zAwjm8D"
      },
      "source": [
        "READING INPUT FROM CSV FILE"
      ]
    },
    {
      "cell_type": "code",
      "metadata": {
        "colab": {
          "base_uri": "https://localhost:8080/"
        },
        "id": "013DoqtlnDZh",
        "outputId": "6b5e583a-e738-4e75-8c87-261e4343aedc"
      },
      "source": [
        "from google.colab import drive\n",
        "drive.mount('/content/drive')"
      ],
      "execution_count": 49,
      "outputs": [
        {
          "output_type": "stream",
          "text": [
            "Drive already mounted at /content/drive; to attempt to forcibly remount, call drive.mount(\"/content/drive\", force_remount=True).\n"
          ],
          "name": "stdout"
        }
      ]
    },
    {
      "cell_type": "code",
      "metadata": {
        "id": "BwjHwBU2nBZO"
      },
      "source": [
        "import pandas as pd\n",
        "!pip install -U -q PyDrive\n",
        "from pydrive.auth import GoogleAuth\n",
        "from pydrive.drive import GoogleDrive\n",
        "from google.colab import auth\n",
        "from oauth2client.client import GoogleCredentials# Authenticate and create the PyDrive client.\n",
        "auth.authenticate_user()\n",
        "gauth = GoogleAuth()\n",
        "gauth.credentials = GoogleCredentials.get_application_default()\n",
        "drive = GoogleDrive(gauth)\n",
        "dataset = pd.read_csv('/content/drive/MyDrive/Colab Notebooks/banknote.csv',names=[\"Variance\", \"Skewness\", \"Curtosis\",\"Entropy\",\"Class\"])"
      ],
      "execution_count": 50,
      "outputs": []
    },
    {
      "cell_type": "code",
      "metadata": {
        "colab": {
          "base_uri": "https://localhost:8080/",
          "height": 204
        },
        "id": "Sc3nh_o1jm8G",
        "outputId": "d658486c-d5a1-4c4f-b10c-4619436fd7cc"
      },
      "source": [
        "dataset.head(5)"
      ],
      "execution_count": 51,
      "outputs": [
        {
          "output_type": "execute_result",
          "data": {
            "text/html": [
              "<div>\n",
              "<style scoped>\n",
              "    .dataframe tbody tr th:only-of-type {\n",
              "        vertical-align: middle;\n",
              "    }\n",
              "\n",
              "    .dataframe tbody tr th {\n",
              "        vertical-align: top;\n",
              "    }\n",
              "\n",
              "    .dataframe thead th {\n",
              "        text-align: right;\n",
              "    }\n",
              "</style>\n",
              "<table border=\"1\" class=\"dataframe\">\n",
              "  <thead>\n",
              "    <tr style=\"text-align: right;\">\n",
              "      <th></th>\n",
              "      <th>Variance</th>\n",
              "      <th>Skewness</th>\n",
              "      <th>Curtosis</th>\n",
              "      <th>Entropy</th>\n",
              "      <th>Class</th>\n",
              "    </tr>\n",
              "  </thead>\n",
              "  <tbody>\n",
              "    <tr>\n",
              "      <th>0</th>\n",
              "      <td>3.62160</td>\n",
              "      <td>8.6661</td>\n",
              "      <td>-2.8073</td>\n",
              "      <td>-0.44699</td>\n",
              "      <td>0</td>\n",
              "    </tr>\n",
              "    <tr>\n",
              "      <th>1</th>\n",
              "      <td>4.54590</td>\n",
              "      <td>8.1674</td>\n",
              "      <td>-2.4586</td>\n",
              "      <td>-1.46210</td>\n",
              "      <td>0</td>\n",
              "    </tr>\n",
              "    <tr>\n",
              "      <th>2</th>\n",
              "      <td>3.86600</td>\n",
              "      <td>-2.6383</td>\n",
              "      <td>1.9242</td>\n",
              "      <td>0.10645</td>\n",
              "      <td>0</td>\n",
              "    </tr>\n",
              "    <tr>\n",
              "      <th>3</th>\n",
              "      <td>3.45660</td>\n",
              "      <td>9.5228</td>\n",
              "      <td>-4.0112</td>\n",
              "      <td>-3.59440</td>\n",
              "      <td>0</td>\n",
              "    </tr>\n",
              "    <tr>\n",
              "      <th>4</th>\n",
              "      <td>0.32924</td>\n",
              "      <td>-4.4552</td>\n",
              "      <td>4.5718</td>\n",
              "      <td>-0.98880</td>\n",
              "      <td>0</td>\n",
              "    </tr>\n",
              "  </tbody>\n",
              "</table>\n",
              "</div>"
            ],
            "text/plain": [
              "   Variance  Skewness  Curtosis  Entropy  Class\n",
              "0   3.62160    8.6661   -2.8073 -0.44699      0\n",
              "1   4.54590    8.1674   -2.4586 -1.46210      0\n",
              "2   3.86600   -2.6383    1.9242  0.10645      0\n",
              "3   3.45660    9.5228   -4.0112 -3.59440      0\n",
              "4   0.32924   -4.4552    4.5718 -0.98880      0"
            ]
          },
          "metadata": {
            "tags": []
          },
          "execution_count": 51
        }
      ]
    },
    {
      "cell_type": "markdown",
      "metadata": {
        "id": "H-w2A9qojm8J"
      },
      "source": [
        "DATASET SPLITING AS PER CLASSES"
      ]
    },
    {
      "cell_type": "code",
      "metadata": {
        "id": "ukHsZ8bojm8K"
      },
      "source": [
        "real = dataset[dataset['Class']==1]\n",
        "fake = dataset[dataset['Class']==0]\n",
        "fake_test, fake_train = train_test_split(fake , test_size=0.5)\n",
        "real_test, real_train = train_test_split(real , test_size=0.5)"
      ],
      "execution_count": 52,
      "outputs": []
    },
    {
      "cell_type": "code",
      "metadata": {
        "colab": {
          "base_uri": "https://localhost:8080/",
          "height": 419
        },
        "id": "QutxdRgctexE",
        "outputId": "e3726bb2-740b-46d9-d020-38441a0c2cbb"
      },
      "source": [
        "fake_test"
      ],
      "execution_count": 53,
      "outputs": [
        {
          "output_type": "execute_result",
          "data": {
            "text/html": [
              "<div>\n",
              "<style scoped>\n",
              "    .dataframe tbody tr th:only-of-type {\n",
              "        vertical-align: middle;\n",
              "    }\n",
              "\n",
              "    .dataframe tbody tr th {\n",
              "        vertical-align: top;\n",
              "    }\n",
              "\n",
              "    .dataframe thead th {\n",
              "        text-align: right;\n",
              "    }\n",
              "</style>\n",
              "<table border=\"1\" class=\"dataframe\">\n",
              "  <thead>\n",
              "    <tr style=\"text-align: right;\">\n",
              "      <th></th>\n",
              "      <th>Variance</th>\n",
              "      <th>Skewness</th>\n",
              "      <th>Curtosis</th>\n",
              "      <th>Entropy</th>\n",
              "      <th>Class</th>\n",
              "    </tr>\n",
              "  </thead>\n",
              "  <tbody>\n",
              "    <tr>\n",
              "      <th>582</th>\n",
              "      <td>4.055200</td>\n",
              "      <td>0.40143</td>\n",
              "      <td>1.456300</td>\n",
              "      <td>0.65343</td>\n",
              "      <td>0</td>\n",
              "    </tr>\n",
              "    <tr>\n",
              "      <th>216</th>\n",
              "      <td>1.323400</td>\n",
              "      <td>3.29640</td>\n",
              "      <td>0.236200</td>\n",
              "      <td>-0.11984</td>\n",
              "      <td>0</td>\n",
              "    </tr>\n",
              "    <tr>\n",
              "      <th>128</th>\n",
              "      <td>4.668900</td>\n",
              "      <td>1.30980</td>\n",
              "      <td>0.055404</td>\n",
              "      <td>1.90900</td>\n",
              "      <td>0</td>\n",
              "    </tr>\n",
              "    <tr>\n",
              "      <th>236</th>\n",
              "      <td>-1.327400</td>\n",
              "      <td>9.49800</td>\n",
              "      <td>2.440800</td>\n",
              "      <td>-5.26890</td>\n",
              "      <td>0</td>\n",
              "    </tr>\n",
              "    <tr>\n",
              "      <th>470</th>\n",
              "      <td>0.872560</td>\n",
              "      <td>9.29310</td>\n",
              "      <td>-0.784300</td>\n",
              "      <td>-2.19780</td>\n",
              "      <td>0</td>\n",
              "    </tr>\n",
              "    <tr>\n",
              "      <th>...</th>\n",
              "      <td>...</td>\n",
              "      <td>...</td>\n",
              "      <td>...</td>\n",
              "      <td>...</td>\n",
              "      <td>...</td>\n",
              "    </tr>\n",
              "    <tr>\n",
              "      <th>706</th>\n",
              "      <td>3.582900</td>\n",
              "      <td>1.44230</td>\n",
              "      <td>1.021900</td>\n",
              "      <td>1.40080</td>\n",
              "      <td>0</td>\n",
              "    </tr>\n",
              "    <tr>\n",
              "      <th>727</th>\n",
              "      <td>-2.647900</td>\n",
              "      <td>10.13740</td>\n",
              "      <td>-1.331000</td>\n",
              "      <td>-5.47070</td>\n",
              "      <td>0</td>\n",
              "    </tr>\n",
              "    <tr>\n",
              "      <th>377</th>\n",
              "      <td>-1.992200</td>\n",
              "      <td>11.65420</td>\n",
              "      <td>2.654200</td>\n",
              "      <td>-5.21070</td>\n",
              "      <td>0</td>\n",
              "    </tr>\n",
              "    <tr>\n",
              "      <th>217</th>\n",
              "      <td>1.326400</td>\n",
              "      <td>1.03260</td>\n",
              "      <td>5.656600</td>\n",
              "      <td>-0.41337</td>\n",
              "      <td>0</td>\n",
              "    </tr>\n",
              "    <tr>\n",
              "      <th>266</th>\n",
              "      <td>-0.016103</td>\n",
              "      <td>9.74840</td>\n",
              "      <td>0.153940</td>\n",
              "      <td>-1.61340</td>\n",
              "      <td>0</td>\n",
              "    </tr>\n",
              "  </tbody>\n",
              "</table>\n",
              "<p>381 rows × 5 columns</p>\n",
              "</div>"
            ],
            "text/plain": [
              "     Variance  Skewness  Curtosis  Entropy  Class\n",
              "582  4.055200   0.40143  1.456300  0.65343      0\n",
              "216  1.323400   3.29640  0.236200 -0.11984      0\n",
              "128  4.668900   1.30980  0.055404  1.90900      0\n",
              "236 -1.327400   9.49800  2.440800 -5.26890      0\n",
              "470  0.872560   9.29310 -0.784300 -2.19780      0\n",
              "..        ...       ...       ...      ...    ...\n",
              "706  3.582900   1.44230  1.021900  1.40080      0\n",
              "727 -2.647900  10.13740 -1.331000 -5.47070      0\n",
              "377 -1.992200  11.65420  2.654200 -5.21070      0\n",
              "217  1.326400   1.03260  5.656600 -0.41337      0\n",
              "266 -0.016103   9.74840  0.153940 -1.61340      0\n",
              "\n",
              "[381 rows x 5 columns]"
            ]
          },
          "metadata": {
            "tags": []
          },
          "execution_count": 53
        }
      ]
    },
    {
      "cell_type": "code",
      "metadata": {
        "colab": {
          "base_uri": "https://localhost:8080/",
          "height": 419
        },
        "id": "KrAh8GeFtjPB",
        "outputId": "d1f5386f-9541-4451-ecad-b0d3056188b2"
      },
      "source": [
        "fake_train"
      ],
      "execution_count": 54,
      "outputs": [
        {
          "output_type": "execute_result",
          "data": {
            "text/html": [
              "<div>\n",
              "<style scoped>\n",
              "    .dataframe tbody tr th:only-of-type {\n",
              "        vertical-align: middle;\n",
              "    }\n",
              "\n",
              "    .dataframe tbody tr th {\n",
              "        vertical-align: top;\n",
              "    }\n",
              "\n",
              "    .dataframe thead th {\n",
              "        text-align: right;\n",
              "    }\n",
              "</style>\n",
              "<table border=\"1\" class=\"dataframe\">\n",
              "  <thead>\n",
              "    <tr style=\"text-align: right;\">\n",
              "      <th></th>\n",
              "      <th>Variance</th>\n",
              "      <th>Skewness</th>\n",
              "      <th>Curtosis</th>\n",
              "      <th>Entropy</th>\n",
              "      <th>Class</th>\n",
              "    </tr>\n",
              "  </thead>\n",
              "  <tbody>\n",
              "    <tr>\n",
              "      <th>632</th>\n",
              "      <td>3.69410</td>\n",
              "      <td>-3.94820</td>\n",
              "      <td>4.26250</td>\n",
              "      <td>1.15770</td>\n",
              "      <td>0</td>\n",
              "    </tr>\n",
              "    <tr>\n",
              "      <th>165</th>\n",
              "      <td>4.19270</td>\n",
              "      <td>-3.26740</td>\n",
              "      <td>2.58390</td>\n",
              "      <td>0.21766</td>\n",
              "      <td>0</td>\n",
              "    </tr>\n",
              "    <tr>\n",
              "      <th>475</th>\n",
              "      <td>3.82130</td>\n",
              "      <td>0.23175</td>\n",
              "      <td>2.01330</td>\n",
              "      <td>2.05640</td>\n",
              "      <td>0</td>\n",
              "    </tr>\n",
              "    <tr>\n",
              "      <th>264</th>\n",
              "      <td>2.48300</td>\n",
              "      <td>6.61550</td>\n",
              "      <td>-0.79287</td>\n",
              "      <td>-0.90863</td>\n",
              "      <td>0</td>\n",
              "    </tr>\n",
              "    <tr>\n",
              "      <th>305</th>\n",
              "      <td>1.02840</td>\n",
              "      <td>9.76700</td>\n",
              "      <td>-1.36870</td>\n",
              "      <td>-1.78530</td>\n",
              "      <td>0</td>\n",
              "    </tr>\n",
              "    <tr>\n",
              "      <th>...</th>\n",
              "      <td>...</td>\n",
              "      <td>...</td>\n",
              "      <td>...</td>\n",
              "      <td>...</td>\n",
              "      <td>...</td>\n",
              "    </tr>\n",
              "    <tr>\n",
              "      <th>458</th>\n",
              "      <td>4.38480</td>\n",
              "      <td>-3.07290</td>\n",
              "      <td>3.04230</td>\n",
              "      <td>1.27410</td>\n",
              "      <td>0</td>\n",
              "    </tr>\n",
              "    <tr>\n",
              "      <th>405</th>\n",
              "      <td>0.58982</td>\n",
              "      <td>7.42660</td>\n",
              "      <td>1.23530</td>\n",
              "      <td>-2.95950</td>\n",
              "      <td>0</td>\n",
              "    </tr>\n",
              "    <tr>\n",
              "      <th>445</th>\n",
              "      <td>3.18870</td>\n",
              "      <td>-3.41430</td>\n",
              "      <td>2.77420</td>\n",
              "      <td>-0.20260</td>\n",
              "      <td>0</td>\n",
              "    </tr>\n",
              "    <tr>\n",
              "      <th>95</th>\n",
              "      <td>-0.64472</td>\n",
              "      <td>-4.60620</td>\n",
              "      <td>8.34700</td>\n",
              "      <td>-2.70990</td>\n",
              "      <td>0</td>\n",
              "    </tr>\n",
              "    <tr>\n",
              "      <th>570</th>\n",
              "      <td>3.93820</td>\n",
              "      <td>0.92910</td>\n",
              "      <td>0.78543</td>\n",
              "      <td>0.67670</td>\n",
              "      <td>0</td>\n",
              "    </tr>\n",
              "  </tbody>\n",
              "</table>\n",
              "<p>381 rows × 5 columns</p>\n",
              "</div>"
            ],
            "text/plain": [
              "     Variance  Skewness  Curtosis  Entropy  Class\n",
              "632   3.69410  -3.94820   4.26250  1.15770      0\n",
              "165   4.19270  -3.26740   2.58390  0.21766      0\n",
              "475   3.82130   0.23175   2.01330  2.05640      0\n",
              "264   2.48300   6.61550  -0.79287 -0.90863      0\n",
              "305   1.02840   9.76700  -1.36870 -1.78530      0\n",
              "..        ...       ...       ...      ...    ...\n",
              "458   4.38480  -3.07290   3.04230  1.27410      0\n",
              "405   0.58982   7.42660   1.23530 -2.95950      0\n",
              "445   3.18870  -3.41430   2.77420 -0.20260      0\n",
              "95   -0.64472  -4.60620   8.34700 -2.70990      0\n",
              "570   3.93820   0.92910   0.78543  0.67670      0\n",
              "\n",
              "[381 rows x 5 columns]"
            ]
          },
          "metadata": {
            "tags": []
          },
          "execution_count": 54
        }
      ]
    },
    {
      "cell_type": "code",
      "metadata": {
        "colab": {
          "base_uri": "https://localhost:8080/",
          "height": 419
        },
        "id": "thx6BUTTjm8N",
        "outputId": "42eca68d-74ec-4700-8d7b-ff15afb76915"
      },
      "source": [
        "real_train"
      ],
      "execution_count": 55,
      "outputs": [
        {
          "output_type": "execute_result",
          "data": {
            "text/html": [
              "<div>\n",
              "<style scoped>\n",
              "    .dataframe tbody tr th:only-of-type {\n",
              "        vertical-align: middle;\n",
              "    }\n",
              "\n",
              "    .dataframe tbody tr th {\n",
              "        vertical-align: top;\n",
              "    }\n",
              "\n",
              "    .dataframe thead th {\n",
              "        text-align: right;\n",
              "    }\n",
              "</style>\n",
              "<table border=\"1\" class=\"dataframe\">\n",
              "  <thead>\n",
              "    <tr style=\"text-align: right;\">\n",
              "      <th></th>\n",
              "      <th>Variance</th>\n",
              "      <th>Skewness</th>\n",
              "      <th>Curtosis</th>\n",
              "      <th>Entropy</th>\n",
              "      <th>Class</th>\n",
              "    </tr>\n",
              "  </thead>\n",
              "  <tbody>\n",
              "    <tr>\n",
              "      <th>1139</th>\n",
              "      <td>-1.52280</td>\n",
              "      <td>-6.47890</td>\n",
              "      <td>5.7568</td>\n",
              "      <td>0.87325</td>\n",
              "      <td>1</td>\n",
              "    </tr>\n",
              "    <tr>\n",
              "      <th>926</th>\n",
              "      <td>-0.23356</td>\n",
              "      <td>3.24050</td>\n",
              "      <td>-3.0669</td>\n",
              "      <td>-2.77840</td>\n",
              "      <td>1</td>\n",
              "    </tr>\n",
              "    <tr>\n",
              "      <th>1080</th>\n",
              "      <td>-0.27068</td>\n",
              "      <td>3.26740</td>\n",
              "      <td>-3.5562</td>\n",
              "      <td>-3.08880</td>\n",
              "      <td>1</td>\n",
              "    </tr>\n",
              "    <tr>\n",
              "      <th>887</th>\n",
              "      <td>-3.26920</td>\n",
              "      <td>-12.74060</td>\n",
              "      <td>15.5573</td>\n",
              "      <td>-0.14182</td>\n",
              "      <td>1</td>\n",
              "    </tr>\n",
              "    <tr>\n",
              "      <th>1219</th>\n",
              "      <td>-3.57980</td>\n",
              "      <td>0.45937</td>\n",
              "      <td>2.3457</td>\n",
              "      <td>-0.45734</td>\n",
              "      <td>1</td>\n",
              "    </tr>\n",
              "    <tr>\n",
              "      <th>...</th>\n",
              "      <td>...</td>\n",
              "      <td>...</td>\n",
              "      <td>...</td>\n",
              "      <td>...</td>\n",
              "      <td>...</td>\n",
              "    </tr>\n",
              "    <tr>\n",
              "      <th>1240</th>\n",
              "      <td>-3.55100</td>\n",
              "      <td>1.89550</td>\n",
              "      <td>0.1865</td>\n",
              "      <td>-2.44090</td>\n",
              "      <td>1</td>\n",
              "    </tr>\n",
              "    <tr>\n",
              "      <th>1119</th>\n",
              "      <td>-1.43750</td>\n",
              "      <td>-1.86240</td>\n",
              "      <td>4.0260</td>\n",
              "      <td>0.55127</td>\n",
              "      <td>1</td>\n",
              "    </tr>\n",
              "    <tr>\n",
              "      <th>1280</th>\n",
              "      <td>-3.35530</td>\n",
              "      <td>0.35591</td>\n",
              "      <td>2.6473</td>\n",
              "      <td>-0.37846</td>\n",
              "      <td>1</td>\n",
              "    </tr>\n",
              "    <tr>\n",
              "      <th>950</th>\n",
              "      <td>-2.08910</td>\n",
              "      <td>-0.48422</td>\n",
              "      <td>1.7040</td>\n",
              "      <td>1.74350</td>\n",
              "      <td>1</td>\n",
              "    </tr>\n",
              "    <tr>\n",
              "      <th>1253</th>\n",
              "      <td>-4.55310</td>\n",
              "      <td>-12.58540</td>\n",
              "      <td>15.4417</td>\n",
              "      <td>-1.49830</td>\n",
              "      <td>1</td>\n",
              "    </tr>\n",
              "  </tbody>\n",
              "</table>\n",
              "<p>305 rows × 5 columns</p>\n",
              "</div>"
            ],
            "text/plain": [
              "      Variance  Skewness  Curtosis  Entropy  Class\n",
              "1139  -1.52280  -6.47890    5.7568  0.87325      1\n",
              "926   -0.23356   3.24050   -3.0669 -2.77840      1\n",
              "1080  -0.27068   3.26740   -3.5562 -3.08880      1\n",
              "887   -3.26920 -12.74060   15.5573 -0.14182      1\n",
              "1219  -3.57980   0.45937    2.3457 -0.45734      1\n",
              "...        ...       ...       ...      ...    ...\n",
              "1240  -3.55100   1.89550    0.1865 -2.44090      1\n",
              "1119  -1.43750  -1.86240    4.0260  0.55127      1\n",
              "1280  -3.35530   0.35591    2.6473 -0.37846      1\n",
              "950   -2.08910  -0.48422    1.7040  1.74350      1\n",
              "1253  -4.55310 -12.58540   15.4417 -1.49830      1\n",
              "\n",
              "[305 rows x 5 columns]"
            ]
          },
          "metadata": {
            "tags": []
          },
          "execution_count": 55
        }
      ]
    },
    {
      "cell_type": "code",
      "metadata": {
        "colab": {
          "base_uri": "https://localhost:8080/",
          "height": 419
        },
        "id": "mHheLdqhjm8P",
        "outputId": "4d94ef62-fc26-4b93-efa9-78371498148a"
      },
      "source": [
        "real_test"
      ],
      "execution_count": 56,
      "outputs": [
        {
          "output_type": "execute_result",
          "data": {
            "text/html": [
              "<div>\n",
              "<style scoped>\n",
              "    .dataframe tbody tr th:only-of-type {\n",
              "        vertical-align: middle;\n",
              "    }\n",
              "\n",
              "    .dataframe tbody tr th {\n",
              "        vertical-align: top;\n",
              "    }\n",
              "\n",
              "    .dataframe thead th {\n",
              "        text-align: right;\n",
              "    }\n",
              "</style>\n",
              "<table border=\"1\" class=\"dataframe\">\n",
              "  <thead>\n",
              "    <tr style=\"text-align: right;\">\n",
              "      <th></th>\n",
              "      <th>Variance</th>\n",
              "      <th>Skewness</th>\n",
              "      <th>Curtosis</th>\n",
              "      <th>Entropy</th>\n",
              "      <th>Class</th>\n",
              "    </tr>\n",
              "  </thead>\n",
              "  <tbody>\n",
              "    <tr>\n",
              "      <th>1299</th>\n",
              "      <td>-1.080200</td>\n",
              "      <td>2.19960</td>\n",
              "      <td>-2.58620</td>\n",
              "      <td>-1.275900</td>\n",
              "      <td>1</td>\n",
              "    </tr>\n",
              "    <tr>\n",
              "      <th>874</th>\n",
              "      <td>-2.799000</td>\n",
              "      <td>1.96790</td>\n",
              "      <td>-0.42357</td>\n",
              "      <td>-2.112500</td>\n",
              "      <td>1</td>\n",
              "    </tr>\n",
              "    <tr>\n",
              "      <th>1192</th>\n",
              "      <td>-4.401800</td>\n",
              "      <td>-12.93710</td>\n",
              "      <td>15.65590</td>\n",
              "      <td>-1.680600</td>\n",
              "      <td>1</td>\n",
              "    </tr>\n",
              "    <tr>\n",
              "      <th>781</th>\n",
              "      <td>-1.821900</td>\n",
              "      <td>-6.88240</td>\n",
              "      <td>5.46810</td>\n",
              "      <td>0.057313</td>\n",
              "      <td>1</td>\n",
              "    </tr>\n",
              "    <tr>\n",
              "      <th>980</th>\n",
              "      <td>0.636550</td>\n",
              "      <td>5.20220</td>\n",
              "      <td>-5.21590</td>\n",
              "      <td>-6.121100</td>\n",
              "      <td>1</td>\n",
              "    </tr>\n",
              "    <tr>\n",
              "      <th>...</th>\n",
              "      <td>...</td>\n",
              "      <td>...</td>\n",
              "      <td>...</td>\n",
              "      <td>...</td>\n",
              "      <td>...</td>\n",
              "    </tr>\n",
              "    <tr>\n",
              "      <th>1330</th>\n",
              "      <td>-1.100500</td>\n",
              "      <td>-7.25080</td>\n",
              "      <td>6.01390</td>\n",
              "      <td>0.368950</td>\n",
              "      <td>1</td>\n",
              "    </tr>\n",
              "    <tr>\n",
              "      <th>909</th>\n",
              "      <td>-1.732200</td>\n",
              "      <td>-9.28280</td>\n",
              "      <td>7.71900</td>\n",
              "      <td>-1.716800</td>\n",
              "      <td>1</td>\n",
              "    </tr>\n",
              "    <tr>\n",
              "      <th>1323</th>\n",
              "      <td>-0.025314</td>\n",
              "      <td>-0.17383</td>\n",
              "      <td>-0.11339</td>\n",
              "      <td>1.219800</td>\n",
              "      <td>1</td>\n",
              "    </tr>\n",
              "    <tr>\n",
              "      <th>1365</th>\n",
              "      <td>-4.504600</td>\n",
              "      <td>-5.81260</td>\n",
              "      <td>10.88670</td>\n",
              "      <td>-0.528460</td>\n",
              "      <td>1</td>\n",
              "    </tr>\n",
              "    <tr>\n",
              "      <th>846</th>\n",
              "      <td>-2.140500</td>\n",
              "      <td>-0.16762</td>\n",
              "      <td>1.32100</td>\n",
              "      <td>-0.209060</td>\n",
              "      <td>1</td>\n",
              "    </tr>\n",
              "  </tbody>\n",
              "</table>\n",
              "<p>305 rows × 5 columns</p>\n",
              "</div>"
            ],
            "text/plain": [
              "      Variance  Skewness  Curtosis   Entropy  Class\n",
              "1299 -1.080200   2.19960  -2.58620 -1.275900      1\n",
              "874  -2.799000   1.96790  -0.42357 -2.112500      1\n",
              "1192 -4.401800 -12.93710  15.65590 -1.680600      1\n",
              "781  -1.821900  -6.88240   5.46810  0.057313      1\n",
              "980   0.636550   5.20220  -5.21590 -6.121100      1\n",
              "...        ...       ...       ...       ...    ...\n",
              "1330 -1.100500  -7.25080   6.01390  0.368950      1\n",
              "909  -1.732200  -9.28280   7.71900 -1.716800      1\n",
              "1323 -0.025314  -0.17383  -0.11339  1.219800      1\n",
              "1365 -4.504600  -5.81260  10.88670 -0.528460      1\n",
              "846  -2.140500  -0.16762   1.32100 -0.209060      1\n",
              "\n",
              "[305 rows x 5 columns]"
            ]
          },
          "metadata": {
            "tags": []
          },
          "execution_count": 56
        }
      ]
    },
    {
      "cell_type": "markdown",
      "metadata": {
        "id": "LaDotXZJjm8R"
      },
      "source": [
        " SPLITTING IN X AND Y"
      ]
    },
    {
      "cell_type": "code",
      "metadata": {
        "id": "YgYK2IDZjm8S"
      },
      "source": [
        "testset = pd.concat([real_test, fake_test])\n",
        "trainset = pd.concat([real_train, fake_train])\n",
        "\n",
        "trainX = trainset.iloc[:, :-1]\n",
        "trainY = trainset.iloc[:, 4:5].values.ravel()\n",
        "\n",
        "testX = testset.iloc[:, :-1]\n",
        "testY = testset.iloc[:, 4:5].values.ravel()"
      ],
      "execution_count": 57,
      "outputs": []
    },
    {
      "cell_type": "markdown",
      "metadata": {
        "id": "4Pcdc_Ekjm8U"
      },
      "source": [
        "PREDICTION BASED ON PRIOR "
      ]
    },
    {
      "cell_type": "code",
      "metadata": {
        "colab": {
          "base_uri": "https://localhost:8080/"
        },
        "id": "boPs3uTAjm8V",
        "outputId": "b6b78d69-97d2-408e-9ef5-6c04376780c5"
      },
      "source": [
        "classifier = GaussianNB()\n",
        "classifier.fit(trainX.values, trainY)\n",
        "prediction = classifier.predict(testX)\n",
        "prediction_train =  classifier.predict(trainX)\n",
        "print(classification_report(prediction_train,trainY))\n",
        "print(classification_report(prediction,testY))\n"
      ],
      "execution_count": 58,
      "outputs": [
        {
          "output_type": "stream",
          "text": [
            "              precision    recall  f1-score   support\n",
            "\n",
            "           0       0.90      0.84      0.87       407\n",
            "           1       0.79      0.86      0.82       279\n",
            "\n",
            "    accuracy                           0.85       686\n",
            "   macro avg       0.84      0.85      0.84       686\n",
            "weighted avg       0.85      0.85      0.85       686\n",
            "\n",
            "              precision    recall  f1-score   support\n",
            "\n",
            "           0       0.89      0.85      0.87       401\n",
            "           1       0.80      0.86      0.83       285\n",
            "\n",
            "    accuracy                           0.85       686\n",
            "   macro avg       0.85      0.85      0.85       686\n",
            "weighted avg       0.85      0.85      0.85       686\n",
            "\n"
          ],
          "name": "stdout"
        }
      ]
    },
    {
      "cell_type": "markdown",
      "metadata": {
        "id": "cboN3UgusL_7"
      },
      "source": [
        "CONFUSION MATRICIES"
      ]
    },
    {
      "cell_type": "code",
      "metadata": {
        "colab": {
          "base_uri": "https://localhost:8080/",
          "height": 356
        },
        "id": "G3bKEdsasBIJ",
        "outputId": "6ab5c4fc-ec8a-49cb-dd8f-f3a3508c9352"
      },
      "source": [
        "# Train Accuracy\n",
        "cm = confusion_matrix(trainY, prediction_train)\n",
        "plt.figure(figsize=(5, 5))\n",
        "ax = sns.heatmap(cm, annot=True, fmt=\"d\")\n",
        "plt.ylabel('True Values')\n",
        "plt.xlabel('Predicted Values')\n",
        "\n",
        "accuracy = accuracy_score(trainY, prediction)\n",
        "print(f\"Classification Accuracy: {accuracy}\")"
      ],
      "execution_count": 59,
      "outputs": [
        {
          "output_type": "stream",
          "text": [
            "Classification Accuracy: 0.8513119533527697\n"
          ],
          "name": "stdout"
        },
        {
          "output_type": "display_data",
          "data": {
            "image/png": "[encoded data removed]",
            "text/plain": [
              "<Figure size 360x360 with 2 Axes>"
            ]
          },
          "metadata": {
            "tags": []
          }
        }
      ]
    },
    {
      "cell_type": "code",
      "metadata": {
        "id": "qFdkam6atiq-",
        "colab": {
          "base_uri": "https://localhost:8080/",
          "height": 356
        },
        "outputId": "907a7e80-2545-418d-d48a-dd5a03e6590a"
      },
      "source": [
        "# Test Accuracy\n",
        "cm = confusion_matrix(testY, prediction)\n",
        "plt.figure(figsize=(5, 5))\n",
        "ax = sns.heatmap(cm, annot=True, fmt=\"d\")\n",
        "plt.ylabel('True Values')\n",
        "plt.xlabel('Predicted Values')\n",
        "\n",
        "accuracy = accuracy_score(testY, prediction)\n",
        "print(f\"Classification Accuracy: {accuracy}\")"
      ],
      "execution_count": 60,
      "outputs": [
        {
          "output_type": "stream",
          "text": [
            "Classification Accuracy: 0.8513119533527697\n"
          ],
          "name": "stdout"
        },
        {
          "output_type": "display_data",
          "data": {
            "image/png": "[encoded data removed]",
            "text/plain": [
              "<Figure size 360x360 with 2 Axes>"
            ]
          },
          "metadata": {
            "tags": []
          }
        }
      ]
    },
    {
      "cell_type": "markdown",
      "metadata": {
        "id": "VDVqAJRPjm8W"
      },
      "source": [
        "  ROC CURVE 1"
      ]
    },
    {
      "cell_type": "code",
      "metadata": {
        "id": "MyL5lICnjm8X",
        "colab": {
          "base_uri": "https://localhost:8080/",
          "height": 302
        },
        "outputId": "24397ed5-d8ac-40b0-c92c-af6c2e782506"
      },
      "source": [
        "fpr, tpr, thresholds = metrics.roc_curve(testY, prediction)\n",
        "roc_auc = metrics.auc(fpr, tpr)\n",
        "\n",
        "print('ROC_AUC = ', roc_auc)\n",
        "\n",
        "display = metrics.RocCurveDisplay(fpr=fpr, tpr=tpr, roc_auc=roc_auc , estimator_name= None)\n",
        "display.plot()  \n",
        "plt.show()"
      ],
      "execution_count": 61,
      "outputs": [
        {
          "output_type": "stream",
          "text": [
            "ROC_AUC =  0.8461942257217848\n"
          ],
          "name": "stdout"
        },
        {
          "output_type": "display_data",
          "data": {
            "image/png": "[encoded data removed]",
            "text/plain": [
              "<Figure size 432x288 with 1 Axes>"
            ]
          },
          "metadata": {
            "tags": []
          }
        }
      ]
    },
    {
      "cell_type": "markdown",
      "metadata": {
        "id": "qPNylCImjm8Y"
      },
      "source": [
        "CHANGING PRIORS TO 0.1 AND 0.9"
      ]
    },
    {
      "cell_type": "code",
      "metadata": {
        "id": "D4ycwiC-jm8Y",
        "colab": {
          "base_uri": "https://localhost:8080/"
        },
        "outputId": "57468138-62fd-41f7-b93c-8f34a2986c67"
      },
      "source": [
        "classifier.class_prior_ = [0.1,0.9]\n",
        "prediction = classifier.predict(testX)\n",
        "prediction_train =  classifier.predict(trainX)\n",
        "print(classification_report(prediction_train,trainY))\n",
        "print(classification_report(prediction,testY))"
      ],
      "execution_count": 67,
      "outputs": [
        {
          "output_type": "stream",
          "text": [
            "              precision    recall  f1-score   support\n",
            "\n",
            "           0       0.62      0.98      0.76       241\n",
            "           1       0.99      0.68      0.80       445\n",
            "\n",
            "    accuracy                           0.78       686\n",
            "   macro avg       0.80      0.83      0.78       686\n",
            "weighted avg       0.86      0.78      0.79       686\n",
            "\n",
            "              precision    recall  f1-score   support\n",
            "\n",
            "           0       0.66      1.00      0.79       253\n",
            "           1       1.00      0.70      0.82       433\n",
            "\n",
            "    accuracy                           0.81       686\n",
            "   macro avg       0.83      0.85      0.81       686\n",
            "weighted avg       0.87      0.81      0.81       686\n",
            "\n"
          ],
          "name": "stdout"
        }
      ]
    },
    {
      "cell_type": "markdown",
      "metadata": {
        "id": "otxdtx6bvgAg"
      },
      "source": [
        "CONFUSION MATRICIES"
      ]
    },
    {
      "cell_type": "code",
      "metadata": {
        "colab": {
          "base_uri": "https://localhost:8080/",
          "height": 359
        },
        "id": "Sy0y8gMXvhFe",
        "outputId": "5a07776f-fe8a-483c-e396-e5948ed4e95e"
      },
      "source": [
        "# Train Accuracy\n",
        "cm = confusion_matrix(trainY, prediction_train)\n",
        "plt.figure(figsize=(5, 5))\n",
        "ax = sns.heatmap(cm, annot=True, fmt=\"d\")\n",
        "plt.ylabel('True Values')\n",
        "plt.xlabel('Predicted Values')\n",
        "\n",
        "accuracy = accuracy_score(trainY, prediction_train)\n",
        "print(f\"Classification Accuracy: {accuracy}\")"
      ],
      "execution_count": 63,
      "outputs": [
        {
          "output_type": "stream",
          "text": [
            "Classification Accuracy: 0.7842565597667639\n"
          ],
          "name": "stdout"
        },
        {
          "output_type": "display_data",
          "data": {
            "image/png": "[encoded data removed]",
            "text/plain": [
              "<Figure size 360x360 with 2 Axes>"
            ]
          },
          "metadata": {
            "tags": []
          }
        }
      ]
    },
    {
      "cell_type": "code",
      "metadata": {
        "id": "mwTlwEi-vhUH",
        "colab": {
          "base_uri": "https://localhost:8080/",
          "height": 357
        },
        "outputId": "7d319354-55f7-41a9-a285-430bb08d2d06"
      },
      "source": [
        "# Test Accuracy\n",
        "cm = confusion_matrix(testY, prediction)\n",
        "plt.figure(figsize=(5, 5))\n",
        "ax = sns.heatmap(cm, annot=True, fmt=\"d\")\n",
        "plt.ylabel('True Values')\n",
        "plt.xlabel('Predicted Values')\n",
        "\n",
        "accuracy = accuracy_score(testY, prediction)\n",
        "print(f\"Classification Accuracy: {accuracy}\")"
      ],
      "execution_count": 64,
      "outputs": [
        {
          "output_type": "stream",
          "text": [
            "Classification Accuracy: 0.8104956268221575\n"
          ],
          "name": "stdout"
        },
        {
          "output_type": "display_data",
          "data": {
            "image/png": "[encoded data removed]",
            "text/plain": [
              "<Figure size 360x360 with 2 Axes>"
            ]
          },
          "metadata": {
            "tags": []
          }
        }
      ]
    },
    {
      "cell_type": "markdown",
      "metadata": {
        "id": "QZ_NA8UYjm8b"
      },
      "source": [
        "ROC CURVE 2"
      ]
    },
    {
      "cell_type": "code",
      "metadata": {
        "id": "oYAPIwNujm8b",
        "colab": {
          "base_uri": "https://localhost:8080/",
          "height": 302
        },
        "outputId": "dc758b01-9141-485d-c3de-cd522e8c802c"
      },
      "source": [
        "fpr, tpr, thresholds = metrics.roc_curve(testY, prediction)\n",
        "roc_auc = metrics.auc(fpr, tpr)\n",
        "\n",
        "print('ROC_AUC = ', roc_auc)\n",
        "\n",
        "display = metrics.RocCurveDisplay(fpr=fpr, tpr=tpr, roc_auc=roc_auc , estimator_name= None)\n",
        "display.plot()  \n",
        "plt.show()"
      ],
      "execution_count": 65,
      "outputs": [
        {
          "output_type": "stream",
          "text": [
            "ROC_AUC =  0.8290693171550277\n"
          ],
          "name": "stdout"
        },
        {
          "output_type": "display_data",
          "data": {
            "image/png": "[encoded data removed]",
            "text/plain": [
              "<Figure size 432x288 with 1 Axes>"
            ]
          },
          "metadata": {
            "tags": []
          }
        }
      ]
    }
  ]
}